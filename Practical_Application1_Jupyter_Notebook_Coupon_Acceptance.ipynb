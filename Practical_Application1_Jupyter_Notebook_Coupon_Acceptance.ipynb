{
 "cells": [
  {
   "cell_type": "markdown",
   "metadata": {
    "id": "CcUT6Fon_qRE"
   },
   "source": [
    "### Required Assignment 5.1: Will the Customer Accept the Coupon?\n",
    "\n",
    "**Context**\n",
    "\n",
    "Imagine driving through town and a coupon is delivered to your cell phone for a restaurant near where you are driving. Would you accept that coupon and take a short detour to the restaurant? Would you accept the coupon but use it on a subsequent trip? Would you ignore the coupon entirely? What if the coupon was for a bar instead of a restaurant? What about a coffee house? Would you accept a bar coupon with a minor passenger in the car? What about if it was just you and your partner in the car? Would weather impact the rate of acceptance? What about the time of day?\n",
    "\n",
    "Obviously, proximity to the business is a factor on whether the coupon is delivered to the driver or not, but what are the factors that determine whether a driver accepts the coupon once it is delivered to them? How would you determine whether a driver is likely to accept a coupon?\n",
    "\n",
    "**Overview**\n",
    "\n",
    "The goal of this project is to use what you know about visualizations and probability distributions to distinguish between customers who accepted a driving coupon versus those that did not.\n",
    "\n",
    "**Data**\n",
    "\n",
    "This data comes to us from the UCI Machine Learning repository and was collected via a survey on Amazon Mechanical Turk. The survey describes different driving scenarios including the destination, current time, weather, passenger, etc., and then ask the person whether he will accept the coupon if he is the driver. Answers that the user will drive there ‘right away’ or ‘later before the coupon expires’ are labeled as ‘Y = 1’ and answers ‘no, I do not want the coupon’ are labeled as ‘Y = 0’.  There are five different types of coupons -- less expensive restaurants (under \\$20), coffee houses, carry out & take away, bar, and more expensive restaurants (\\$20 - $50)."
   ]
  },
  {
   "cell_type": "markdown",
   "metadata": {
    "id": "1wORvMBJ_qRF"
   },
   "source": [
    "**Deliverables**\n",
    "\n",
    "Your final product should be a brief report that highlights the differences between customers who did and did not accept the coupons.  To explore the data you will utilize your knowledge of plotting, statistical summaries, and visualization using Python. You will publish your findings in a public facing github repository as your first portfolio piece.\n",
    "\n",
    "\n",
    "\n"
   ]
  },
  {
   "cell_type": "markdown",
   "metadata": {
    "id": "pG6_Ym6q_qRG"
   },
   "source": [
    "### Data Description\n",
    "Keep in mind that these values mentioned below are average values.\n",
    "\n",
    "The attributes of this data set include:\n",
    "1. User attributes\n",
    "    -  Gender: male, female\n",
    "    -  Age: below 21, 21 to 25, 26 to 30, etc.\n",
    "    -  Marital Status: single, married partner, unmarried partner, or widowed\n",
    "    -  Number of children: 0, 1, or more than 1\n",
    "    -  Education: high school, bachelors degree, associates degree, or graduate degree\n",
    "    -  Occupation: architecture & engineering, business & financial, etc.\n",
    "    -  Annual income: less than \\\\$12500, \\\\$12500 - \\\\$24999, \\\\$25000 - \\\\$37499, etc.\n",
    "    -  Number of times that he/she goes to a bar: 0, less than 1, 1 to 3, 4 to 8 or greater than 8\n",
    "    -  Number of times that he/she buys takeaway food: 0, less than 1, 1 to 3, 4 to 8 or greater\n",
    "    than 8\n",
    "    -  Number of times that he/she goes to a coffee house: 0, less than 1, 1 to 3, 4 to 8 or\n",
    "    greater than 8\n",
    "    -  Number of times that he/she eats at a restaurant with average expense less than \\\\$20 per\n",
    "    person: 0, less than 1, 1 to 3, 4 to 8 or greater than 8\n",
    "    -  Number of times that he/she goes to a bar: 0, less than 1, 1 to 3, 4 to 8 or greater than 8\n",
    "    \n",
    "\n",
    "2. Contextual attributes\n",
    "    - Driving destination: home, work, or no urgent destination\n",
    "    - Location of user, coupon and destination: we provide a map to show the geographical\n",
    "    location of the user, destination, and the venue, and we mark the distance between each\n",
    "    two places with time of driving. The user can see whether the venue is in the same\n",
    "    direction as the destination.\n",
    "    - Weather: sunny, rainy, or snowy\n",
    "    - Temperature: 30F, 55F, or 80F\n",
    "    - Time: 10AM, 2PM, or 6PM\n",
    "    - Passenger: alone, partner, kid(s), or friend(s)\n",
    "\n",
    "\n",
    "3. Coupon attributes\n",
    "    - time before it expires: 2 hours or one day"
   ]
  },
  {
   "cell_type": "code",
   "execution_count": 9,
   "metadata": {
    "id": "dzNoP3o__qRG"
   },
   "outputs": [],
   "source": [
    "import matplotlib.pyplot as plt\n",
    "import seaborn as sns\n",
    "import pandas as pd\n",
    "import numpy as np"
   ]
  },
  {
   "cell_type": "markdown",
   "metadata": {
    "id": "Ct8pI1uE_qRG"
   },
   "source": [
    "### Problems\n",
    "\n",
    "Use the prompts below to get started with your data analysis.  \n",
    "\n",
    "1. Read in the `coupons.csv` file.\n",
    "\n",
    "\n"
   ]
  },
  {
   "cell_type": "code",
   "execution_count": 13,
   "metadata": {
    "id": "X0vbffYg_qRH"
   },
   "outputs": [],
   "source": [
    "df = pd.read_csv('coupons.csv')"
   ]
  },
  {
   "cell_type": "code",
   "execution_count": 14,
   "metadata": {
    "id": "TXofQ_DF_qRH",
    "outputId": "2fc96a2c-1112-4b54-f24f-dbb9bc88abfb"
   },
   "outputs": [
    {
     "data": {
      "text/html": [
       "<div>\n",
       "<style scoped>\n",
       "    .dataframe tbody tr th:only-of-type {\n",
       "        vertical-align: middle;\n",
       "    }\n",
       "\n",
       "    .dataframe tbody tr th {\n",
       "        vertical-align: top;\n",
       "    }\n",
       "\n",
       "    .dataframe thead th {\n",
       "        text-align: right;\n",
       "    }\n",
       "</style>\n",
       "<table border=\"1\" class=\"dataframe\">\n",
       "  <thead>\n",
       "    <tr style=\"text-align: right;\">\n",
       "      <th></th>\n",
       "      <th>destination</th>\n",
       "      <th>passanger</th>\n",
       "      <th>weather</th>\n",
       "      <th>temperature</th>\n",
       "      <th>time</th>\n",
       "      <th>coupon</th>\n",
       "      <th>expiration</th>\n",
       "      <th>gender</th>\n",
       "      <th>age</th>\n",
       "      <th>maritalStatus</th>\n",
       "      <th>...</th>\n",
       "      <th>CoffeeHouse</th>\n",
       "      <th>CarryAway</th>\n",
       "      <th>RestaurantLessThan20</th>\n",
       "      <th>Restaurant20To50</th>\n",
       "      <th>toCoupon_GEQ5min</th>\n",
       "      <th>toCoupon_GEQ15min</th>\n",
       "      <th>toCoupon_GEQ25min</th>\n",
       "      <th>direction_same</th>\n",
       "      <th>direction_opp</th>\n",
       "      <th>Y</th>\n",
       "    </tr>\n",
       "  </thead>\n",
       "  <tbody>\n",
       "    <tr>\n",
       "      <th>0</th>\n",
       "      <td>No Urgent Place</td>\n",
       "      <td>Alone</td>\n",
       "      <td>Sunny</td>\n",
       "      <td>55</td>\n",
       "      <td>2PM</td>\n",
       "      <td>Restaurant(&lt;20)</td>\n",
       "      <td>1d</td>\n",
       "      <td>Female</td>\n",
       "      <td>21</td>\n",
       "      <td>Unmarried partner</td>\n",
       "      <td>...</td>\n",
       "      <td>never</td>\n",
       "      <td>NaN</td>\n",
       "      <td>4~8</td>\n",
       "      <td>1~3</td>\n",
       "      <td>1</td>\n",
       "      <td>0</td>\n",
       "      <td>0</td>\n",
       "      <td>0</td>\n",
       "      <td>1</td>\n",
       "      <td>1</td>\n",
       "    </tr>\n",
       "    <tr>\n",
       "      <th>1</th>\n",
       "      <td>No Urgent Place</td>\n",
       "      <td>Friend(s)</td>\n",
       "      <td>Sunny</td>\n",
       "      <td>80</td>\n",
       "      <td>10AM</td>\n",
       "      <td>Coffee House</td>\n",
       "      <td>2h</td>\n",
       "      <td>Female</td>\n",
       "      <td>21</td>\n",
       "      <td>Unmarried partner</td>\n",
       "      <td>...</td>\n",
       "      <td>never</td>\n",
       "      <td>NaN</td>\n",
       "      <td>4~8</td>\n",
       "      <td>1~3</td>\n",
       "      <td>1</td>\n",
       "      <td>0</td>\n",
       "      <td>0</td>\n",
       "      <td>0</td>\n",
       "      <td>1</td>\n",
       "      <td>0</td>\n",
       "    </tr>\n",
       "    <tr>\n",
       "      <th>2</th>\n",
       "      <td>No Urgent Place</td>\n",
       "      <td>Friend(s)</td>\n",
       "      <td>Sunny</td>\n",
       "      <td>80</td>\n",
       "      <td>10AM</td>\n",
       "      <td>Carry out &amp; Take away</td>\n",
       "      <td>2h</td>\n",
       "      <td>Female</td>\n",
       "      <td>21</td>\n",
       "      <td>Unmarried partner</td>\n",
       "      <td>...</td>\n",
       "      <td>never</td>\n",
       "      <td>NaN</td>\n",
       "      <td>4~8</td>\n",
       "      <td>1~3</td>\n",
       "      <td>1</td>\n",
       "      <td>1</td>\n",
       "      <td>0</td>\n",
       "      <td>0</td>\n",
       "      <td>1</td>\n",
       "      <td>1</td>\n",
       "    </tr>\n",
       "    <tr>\n",
       "      <th>3</th>\n",
       "      <td>No Urgent Place</td>\n",
       "      <td>Friend(s)</td>\n",
       "      <td>Sunny</td>\n",
       "      <td>80</td>\n",
       "      <td>2PM</td>\n",
       "      <td>Coffee House</td>\n",
       "      <td>2h</td>\n",
       "      <td>Female</td>\n",
       "      <td>21</td>\n",
       "      <td>Unmarried partner</td>\n",
       "      <td>...</td>\n",
       "      <td>never</td>\n",
       "      <td>NaN</td>\n",
       "      <td>4~8</td>\n",
       "      <td>1~3</td>\n",
       "      <td>1</td>\n",
       "      <td>1</td>\n",
       "      <td>0</td>\n",
       "      <td>0</td>\n",
       "      <td>1</td>\n",
       "      <td>0</td>\n",
       "    </tr>\n",
       "    <tr>\n",
       "      <th>4</th>\n",
       "      <td>No Urgent Place</td>\n",
       "      <td>Friend(s)</td>\n",
       "      <td>Sunny</td>\n",
       "      <td>80</td>\n",
       "      <td>2PM</td>\n",
       "      <td>Coffee House</td>\n",
       "      <td>1d</td>\n",
       "      <td>Female</td>\n",
       "      <td>21</td>\n",
       "      <td>Unmarried partner</td>\n",
       "      <td>...</td>\n",
       "      <td>never</td>\n",
       "      <td>NaN</td>\n",
       "      <td>4~8</td>\n",
       "      <td>1~3</td>\n",
       "      <td>1</td>\n",
       "      <td>1</td>\n",
       "      <td>0</td>\n",
       "      <td>0</td>\n",
       "      <td>1</td>\n",
       "      <td>0</td>\n",
       "    </tr>\n",
       "  </tbody>\n",
       "</table>\n",
       "<p>5 rows × 26 columns</p>\n",
       "</div>"
      ],
      "text/plain": [
       "       destination  passanger weather  temperature  time  \\\n",
       "0  No Urgent Place      Alone   Sunny           55   2PM   \n",
       "1  No Urgent Place  Friend(s)   Sunny           80  10AM   \n",
       "2  No Urgent Place  Friend(s)   Sunny           80  10AM   \n",
       "3  No Urgent Place  Friend(s)   Sunny           80   2PM   \n",
       "4  No Urgent Place  Friend(s)   Sunny           80   2PM   \n",
       "\n",
       "                  coupon expiration  gender age      maritalStatus ...  \\\n",
       "0        Restaurant(<20)         1d  Female  21  Unmarried partner ...   \n",
       "1           Coffee House         2h  Female  21  Unmarried partner ...   \n",
       "2  Carry out & Take away         2h  Female  21  Unmarried partner ...   \n",
       "3           Coffee House         2h  Female  21  Unmarried partner ...   \n",
       "4           Coffee House         1d  Female  21  Unmarried partner ...   \n",
       "\n",
       "   CoffeeHouse CarryAway RestaurantLessThan20 Restaurant20To50  \\\n",
       "0        never       NaN                  4~8              1~3   \n",
       "1        never       NaN                  4~8              1~3   \n",
       "2        never       NaN                  4~8              1~3   \n",
       "3        never       NaN                  4~8              1~3   \n",
       "4        never       NaN                  4~8              1~3   \n",
       "\n",
       "  toCoupon_GEQ5min toCoupon_GEQ15min toCoupon_GEQ25min direction_same  \\\n",
       "0                1                 0                 0              0   \n",
       "1                1                 0                 0              0   \n",
       "2                1                 1                 0              0   \n",
       "3                1                 1                 0              0   \n",
       "4                1                 1                 0              0   \n",
       "\n",
       "  direction_opp  Y  \n",
       "0             1  1  \n",
       "1             1  0  \n",
       "2             1  1  \n",
       "3             1  0  \n",
       "4             1  0  \n",
       "\n",
       "[5 rows x 26 columns]"
      ]
     },
     "execution_count": 14,
     "metadata": {},
     "output_type": "execute_result"
    }
   ],
   "source": [
    "df.head()"
   ]
  },
  {
   "cell_type": "markdown",
   "metadata": {
    "id": "GcDs78ZH_qRH"
   },
   "source": [
    "2. Investigate the dataset for missing or problematic data."
   ]
  },
  {
   "cell_type": "code",
   "execution_count": 9,
   "metadata": {
    "id": "6CwL6oWj_qRH"
   },
   "outputs": [
    {
     "data": {
      "text/plain": [
       "car                     12576\n",
       "CoffeeHouse               217\n",
       "Restaurant20To50          189\n",
       "CarryAway                 151\n",
       "RestaurantLessThan20      130\n",
       "Bar                       107\n",
       "Y                           0\n",
       "maritalStatus               0\n",
       "passanger                   0\n",
       "weather                     0\n",
       "temperature                 0\n",
       "time                        0\n",
       "coupon                      0\n",
       "expiration                  0\n",
       "gender                      0\n",
       "age                         0\n",
       "occupation                  0\n",
       "has_children                0\n",
       "education                   0\n",
       "direction_opp               0\n",
       "income                      0\n",
       "toCoupon_GEQ5min            0\n",
       "toCoupon_GEQ15min           0\n",
       "toCoupon_GEQ25min           0\n",
       "direction_same              0\n",
       "destination                 0\n",
       "dtype: int64"
      ]
     },
     "execution_count": 9,
     "metadata": {},
     "output_type": "execute_result"
    }
   ],
   "source": [
    "# Checking for blank values\n",
    "df.isna().sum().sort_values(ascending=False)"
   ]
  },
  {
   "cell_type": "markdown",
   "metadata": {
    "id": "bSdVSpYB_qRH"
   },
   "source": [
    "3. Decide what to do about your missing data -- drop, replace, other..."
   ]
  },
  {
   "cell_type": "code",
   "execution_count": 10,
   "metadata": {
    "id": "tyvoAC5F_qRI"
   },
   "outputs": [
    {
     "name": "stdout",
     "output_type": "stream",
     "text": [
      "Y                0\n",
      "direction_opp    0\n",
      "passanger        0\n",
      "weather          0\n",
      "temperature      0\n",
      "time             0\n",
      "coupon           0\n",
      "expiration       0\n",
      "gender           0\n",
      "age              0\n",
      "dtype: int64\n"
     ]
    }
   ],
   "source": [
    "# Fill in columns that have missing values\n",
    "cols_with_missing = ['car', 'CoffeeHouse', 'Restaurant20To50', \n",
    "                     'CarryAway', 'RestaurantLessThan20', 'Bar']\n",
    "\n",
    "df[cols_with_missing] = df[cols_with_missing].fillna('Unknown')\n",
    "\n",
    "# Confirm cleanup\n",
    "print(df.isna().sum().sort_values(ascending=False).head(10))\n"
   ]
  },
  {
   "cell_type": "markdown",
   "metadata": {
    "id": "YE6oJbXd_qRI"
   },
   "source": [
    "4. What proportion of the total observations chose to accept the coupon?\n",
    "\n"
   ]
  },
  {
   "cell_type": "code",
   "execution_count": 11,
   "metadata": {
    "id": "86GGqBTv_qRI"
   },
   "outputs": [
    {
     "name": "stdout",
     "output_type": "stream",
     "text": [
      "0    5474\n",
      "1    7210\n",
      "Name: Y, dtype: int64\n",
      "0    43.156733\n",
      "1    56.843267\n",
      "Name: Y, dtype: float64\n"
     ]
    }
   ],
   "source": [
    "#Do most people accept or reject the coupon?\n",
    "counts = df['Y'].value_counts().sort_index()\n",
    "percentages = counts / counts.sum() * 100\n",
    "\n",
    "print(counts)\n",
    "print(percentages)\n"
   ]
  },
  {
   "cell_type": "markdown",
   "metadata": {
    "id": "vflz0DoE_qRI"
   },
   "source": [
    "5. Use a bar plot to visualize the `coupon` column."
   ]
  },
  {
   "cell_type": "code",
   "execution_count": 12,
   "metadata": {
    "id": "dHFh3E45_qRI"
   },
   "outputs": [
    {
     "data": {
      "image/png": "[encoded data removed]",
      "text/plain": [
       "<matplotlib.figure.Figure at 0x17e07aa3358>"
      ]
     },
     "metadata": {},
     "output_type": "display_data"
    }
   ],
   "source": [
    "#Coupon Acceptance Visualized\n",
    "\n",
    "plt.figure(figsize=(5,4))\n",
    "sns.countplot(data=df, x='Y')\n",
    "plt.title('Overall Coupon Acceptance')\n",
    "plt.xlabel('Accepted Coupon? (1 = Yes, 0 = No)')\n",
    "plt.ylabel('Number of Customers')\n",
    "plt.show()"
   ]
  },
  {
   "cell_type": "code",
   "execution_count": null,
   "metadata": {},
   "outputs": [],
   "source": [
    "# 57% of Customes accept the coupon"
   ]
  },
  {
   "cell_type": "markdown",
   "metadata": {
    "id": "Qw4lCyx2_qRI"
   },
   "source": [
    "6. Use a histogram to visualize the temperature column."
   ]
  },
  {
   "cell_type": "code",
   "execution_count": 13,
   "metadata": {
    "id": "Yg9Anv71_qRI"
   },
   "outputs": [
    {
     "data": {
      "image/png": "[encoded data removed]",
      "text/plain": [
       "<matplotlib.figure.Figure at 0x17e07d2cb70>"
      ]
     },
     "metadata": {},
     "output_type": "display_data"
    }
   ],
   "source": [
    "#Temperrature Histograms\n",
    "vals = df['temperature'].dropna()\n",
    "plt.figure(figsize=(7,5))\n",
    "plt.hist(vals, bins=10, edgecolor='black')\n",
    "plt.title('Distribution of Temperature')\n",
    "plt.xlabel('Temperature (°F)')\n",
    "plt.ylabel('Number of Observations')\n",
    "plt.tight_layout()\n",
    "plt.show()"
   ]
  },
  {
   "cell_type": "code",
   "execution_count": null,
   "metadata": {
    "id": "zLtOaJQk_qRI"
   },
   "outputs": [],
   "source": []
  },
  {
   "cell_type": "code",
   "execution_count": null,
   "metadata": {
    "id": "7GBHZKBp_qRJ"
   },
   "outputs": [],
   "source": []
  },
  {
   "cell_type": "code",
   "execution_count": null,
   "metadata": {
    "id": "Y5nBUA-j_qRJ"
   },
   "outputs": [],
   "source": []
  },
  {
   "cell_type": "code",
   "execution_count": null,
   "metadata": {
    "id": "ShcUC-Vm_qRJ"
   },
   "outputs": [],
   "source": []
  },
  {
   "cell_type": "markdown",
   "metadata": {
    "id": "FupfgeJk_qRJ"
   },
   "source": [
    "**Investigating the Bar Coupons**\n",
    "\n",
    "Now, we will lead you through an exploration of just the bar related coupons.  \n",
    "\n",
    "1. Create a new `DataFrame` that contains just the bar coupons.\n"
   ]
  },
  {
   "cell_type": "code",
   "execution_count": 23,
   "metadata": {
    "id": "tMBlWuGq_qRJ"
   },
   "outputs": [
    {
     "name": "stdout",
     "output_type": "stream",
     "text": [
      "Number of Bar coupon entries: 2017\n"
     ]
    }
   ],
   "source": [
    "bar_coupons = df[df['coupon'] == 'Bar']\n",
    "\n",
    "print(\"Number of Bar coupon entries:\", len(bar_coupons))"
   ]
  },
  {
   "cell_type": "markdown",
   "metadata": {
    "id": "8ue6uCqf_qRJ"
   },
   "source": [
    "2. What proportion of bar coupons were accepted?\n"
   ]
  },
  {
   "cell_type": "code",
   "execution_count": 24,
   "metadata": {
    "id": "hSdte8Mi_qRK"
   },
   "outputs": [
    {
     "name": "stdout",
     "output_type": "stream",
     "text": [
      "accepted_bar:41.0%\n"
     ]
    },
    {
     "data": {
      "text/plain": [
       "Text(0,0.5,'Number of Drivers')"
      ]
     },
     "execution_count": 24,
     "metadata": {},
     "output_type": "execute_result"
    },
    {
     "data": {
      "image/png": "[encoded data removed]",
      "text/plain": [
       "<matplotlib.figure.Figure at 0x265a236a358>"
      ]
     },
     "metadata": {},
     "output_type": "display_data"
    }
   ],
   "source": [
    "#Bar Coupon Acceptance\n",
    "\n",
    "accepted_bar = bar_coupons['Y'].mean() *100   \n",
    "print(f\"accepted_bar:{accepted_bar:.1f}%\")\n",
    "\n",
    "plt.figure(figsize=(5,4))\n",
    "sns.countplot(data=bar_coupons, x='Y', palette='OrRd_r')\n",
    "plt.title('Bar Coupons — Accepted vs Not Accepted')\n",
    "plt.xlabel('Accepted Coupon? (1 = Yes, 0 = No)')\n",
    "plt.ylabel('Number of Drivers')\n",
    "\n",
    "#Less than half of drivers will accept a coupon for a bar immediately or sometime before it expires, indicating only a minority are interested in discounts from bars."
   ]
  },
  {
   "cell_type": "markdown",
   "metadata": {
    "id": "85nA_iEi_qRK"
   },
   "source": [
    "3. Compare the acceptance rate between those who went to a bar 3 or fewer times a month to those who went more.\n"
   ]
  },
  {
   "cell_type": "code",
   "execution_count": 25,
   "metadata": {
    "id": "LBOrN-XM_qRK"
   },
   "outputs": [
    {
     "name": "stdout",
     "output_type": "stream",
     "text": [
      "Bar\n",
      "1~3        64.7\n",
      "4~8        78.0\n",
      "Unknown    38.1\n",
      "gt8        73.5\n",
      "less1      44.4\n",
      "never      18.8\n",
      "Name: Y, dtype: float64\n"
     ]
    }
   ],
   "source": [
    "\n",
    "# Calculate acceptance rate for each Bar category\n",
    "bar_coupons = df[df['coupon'] == 'Bar'].copy()\n",
    "bar_coupons.loc[:, 'Bar'] = bar_coupons['Bar'].fillna('Unknown')\n",
    "bar_type_accept = (\n",
    "    bar_coupons.groupby('Bar')['Y']\n",
    "    .mean()\n",
    "    .mul(100)\n",
    "    .round(1)\n",
    "    .sort_index()\n",
    ")\n",
    "\n",
    "print(bar_type_accept)\n",
    "\n",
    "\n",
    "#Drivers who visit a bar at least once a month will accept the coupon at minimum 65% of the time."
   ]
  },
  {
   "cell_type": "markdown",
   "metadata": {
    "id": "RBgcQwH4_qRK"
   },
   "source": [
    "4. Compare the acceptance rate between drivers who go to a bar more than once a month and are over the age of 25 to the all others.  Is there a difference?\n"
   ]
  },
  {
   "cell_type": "code",
   "execution_count": 30,
   "metadata": {
    "id": "bf28bbeX_qRK"
   },
   "outputs": [
    {
     "name": "stdout",
     "output_type": "stream",
     "text": [
      "Frequent bar-goers over 25: 61.4%\n",
      "All others: 41.0%\n",
      "61% of drivers over 25 who visit a bar at least once month accept the coupon, suggesting broad appeal for these promotions.\n"
     ]
    },
    {
     "data": {
      "image/png": "[encoded data removed]",
      "text/plain": [
       "<matplotlib.figure.Figure at 0x265a236a208>"
      ]
     },
     "metadata": {},
     "output_type": "display_data"
    }
   ],
   "source": [
    "# Clean up any missing value\n",
    "df['Bar'] = df['Bar'].fillna('Unknown')\n",
    "df['age'] = df['age'].fillna('Unknown')\n",
    "\n",
    "frequent_bar = ['1~3', '4~8', 'gt8']\n",
    "\n",
    "# Create new DataFrame: drivers who go to bars more than once/month and are over 25\n",
    "bar_over25 = df[(df['Bar'].isin(frequent_bar)) & (df['age'] != '21') & (df['age'] != '26') & (df['age'] != 'Below21')]\n",
    "\n",
    "# Acceptance among over-25 who are frequent bar-goers\n",
    "accept_rate_target = bar_over25['Y'].mean() * 100\n",
    "\n",
    "# Acceptance among everyone else\n",
    "accepted_bar = bar_coupons['Y'].mean() * 100\n",
    "\n",
    "print(f\"Frequent bar-goers over 25: {accept_rate_target:.1f}%\")\n",
    "print(f\"All others: {accepted_bar:.1f}%\")\n",
    "\n",
    "\n",
    "bar_25plus = bar_coupons[\n",
    "    (bar_coupons['Bar'].isin(['1~3', '4~8', 'gt8'])) &\n",
    "    (bar_coupons['age'].isin(['26','31','36','41','46','50plus']))\n",
    "]\n",
    "\n",
    "plt.figure(figsize=(5,4))\n",
    "sns.countplot(data=bar_25plus, x='Y', palette='Reds')\n",
    "plt.title('Frequent Bar-Goers Over Age 25 — Acceptance vs Non-Acceptance')\n",
    "plt.xlabel('Accepted Coupon? (1 = Yes, 0 = No)')\n",
    "plt.ylabel('Number of Drivers')\n",
    "\n",
    "\n",
    "print(\"61% of drivers over 25 who visit a bar at least once month accept the coupon, suggesting broad appeal for these promotions.\")"
   ]
  },
  {
   "cell_type": "markdown",
   "metadata": {
    "id": "S4RKT4PJ_qRK"
   },
   "source": [
    "5. Use the same process to compare the acceptance rate between drivers who go to bars more than once a month and had passengers that were not a kid and had occupations other than farming, fishing, or forestry.\n"
   ]
  },
  {
   "cell_type": "code",
   "execution_count": 29,
   "metadata": {
    "id": "sENaI2Tg_qRK"
   },
   "outputs": [
    {
     "name": "stdout",
     "output_type": "stream",
     "text": [
      "Frequent bar-goers (non-kid passengers, non-farming jobs): 62.2%\n",
      "All others: 41.0%\n"
     ]
    },
    {
     "data": {
      "image/png": "[encoded data removed]",
      "text/plain": [
       "<matplotlib.figure.Figure at 0x265a235a6a0>"
      ]
     },
     "metadata": {},
     "output_type": "display_data"
    },
    {
     "name": "stdout",
     "output_type": "stream",
     "text": [
      "62% of the frequent bar visitors did not have child passenger nor worked farm jobs, indictaing lifstyles with more leisure time.\n"
     ]
    }
   ],
   "source": [
    "# Clean up missing values\n",
    "df['passanger'] = df['passanger'].fillna('Unknown')\n",
    "df['occupation'] = df['occupation'].fillna('Unknown')\n",
    "\n",
    "# Define frequent bar-goers\n",
    "frequent_bar = ['1~3', '4~8', 'gt8']\n",
    "\n",
    "# Define the excluded occupations\n",
    "excluded_jobs = ['Farming', 'Fishing', 'Forestry']\n",
    "\n",
    "# Create new DataFrame: goes to bar > once/month, passenger not 'Kid', occupation not in excluded list\n",
    "target_group = df[\n",
    "    (df['Bar'].isin(frequent_bar)) &\n",
    "    (df['passanger'] != 'Kid') &\n",
    "    (~df['occupation'].isin(excluded_jobs))\n",
    "].copy()\n",
    "\n",
    "# Acceptance rate among target group\n",
    "accept_target = target_group['Y'].mean() * 100\n",
    "\n",
    "# Acceptance rate among everyone else\n",
    "accepted_bar = bar_coupons['Y'].mean() * 100\n",
    "\n",
    "print(f\"Frequent bar-goers (non-kid passengers, non-farming jobs): {accept_target:.1f}%\")\n",
    "print(f\"All others: {accepted_bar:.1f}%\")\n",
    "\n",
    "bar_no_kids_nonfarm = bar_coupons[\n",
    "    (bar_coupons['Bar'].isin(['1~3', '4~8', 'gt8'])) &\n",
    "    (bar_coupons['passanger'] != 'Kid') &\n",
    "    (~bar_coupons['occupation'].isin(['Farming', 'Fishing', 'Forestry']))\n",
    "]\n",
    "\n",
    "plt.figure(figsize=(5,4))\n",
    "sns.countplot(data=bar_no_kids_nonfarm, x='Y', palette='coolwarm')\n",
    "plt.title('Frequent Bar-Goers (No Kid, Non-Farming Jobs) — Acceptance vs Non-Acceptance')\n",
    "plt.xlabel('Accepted Coupon? (1 = Yes, 0 = No)')\n",
    "plt.ylabel('Number of Drivers')\n",
    "\n",
    "for p in plt.gca().patches:\n",
    "    plt.text(p.get_x()+p.get_width()/2, p.get_height()+10,\n",
    "             int(p.get_height()), ha='center', fontsize=10)\n",
    "plt.tight_layout()\n",
    "plt.show()\n",
    "\n",
    "print(\"62% of the frequent bar visitors did not have child passenger nor worked farm jobs, indictaing lifstyles with more leisure time.\")"
   ]
  },
  {
   "cell_type": "markdown",
   "metadata": {
    "id": "n2LIUTil_qRK"
   },
   "source": [
    "6. Compare the acceptance rates between those drivers who:\n",
    "\n",
    "- go to bars more than once a month, had passengers that were not a kid, and were not widowed *OR*\n",
    "- go to bars more than once a month and are under the age of 30 *OR*\n",
    "- go to cheap restaurants more than 4 times a month and income is less than 50K.\n",
    "\n"
   ]
  },
  {
   "cell_type": "code",
   "execution_count": 28,
   "metadata": {
    "id": "aK_wEzx7_qRK"
   },
   "outputs": [
    {
     "name": "stdout",
     "output_type": "stream",
     "text": [
      "Frequent bar-goers under 30: 62.8%\n",
      "All others: 41.0%\n"
     ]
    },
    {
     "data": {
      "image/png": "[encoded data removed]",
      "text/plain": [
       "<matplotlib.figure.Figure at 0x265a236a080>"
      ]
     },
     "metadata": {},
     "output_type": "display_data"
    },
    {
     "name": "stdout",
     "output_type": "stream",
     "text": [
      "63% of bar patrons who go to bars > once/month and under 30 would accept a bar coupon, indicating strong appeal from younger drivers.\n"
     ]
    }
   ],
   "source": [
    "#Compare the acceptance rates between those drivers who: go to bars more than once a month and are under the age of 30\n",
    "\n",
    "# Define frequent bar-goers\n",
    "frequent_bar = ['1~3', '4~8', 'gt8']\n",
    "\n",
    "# Define what counts as \"under 30\"\n",
    "under30 = ['Below21', '21', '26']   # adjust if your dataset uses numeric ages\n",
    "\n",
    "# Create new DataFrame: go to bars more than once a month and are under the age of 30\n",
    "bar_under30 = df[(df['Bar'].isin(frequent_bar)) & (df['age'].isin(under30))].copy()\n",
    "\n",
    "# Acceptance among under-30 frequent bar-goers\n",
    "accept_rate_young = bar_under30['Y'].mean() * 100\n",
    "\n",
    "# Acceptance among everyone else\n",
    "accepted_bar = bar_coupons['Y'].mean() * 100\n",
    "\n",
    "print(f\"Frequent bar-goers under 30: {accept_rate_young:.1f}%\")\n",
    "print(f\"All others: {accepted_bar:.1f}%\")\n",
    "\n",
    "bar_under30 = bar_coupons[\n",
    "    (bar_coupons['Bar'].isin(['1~3','4~8','gt8'])) &\n",
    "    (bar_coupons['age'].isin(['Below21','21','26']))\n",
    "]\n",
    "\n",
    "plt.figure(figsize=(5,4))\n",
    "sns.countplot(data=bar_under30, x='Y')\n",
    "plt.title('Frequent Bar-Goers Under 30 — Acceptance vs Non-Acceptance')\n",
    "plt.xlabel('Accepted? (1=Yes, 0=No)')\n",
    "plt.ylabel('Count')\n",
    "for p in plt.gca().patches:\n",
    "    plt.text(p.get_x()+p.get_width()/2, p.get_height()+10, int(p.get_height()),\n",
    "             ha='center', fontsize=10)\n",
    "plt.tight_layout()\n",
    "plt.show()\n",
    "\n",
    "print(\"63% of bar patrons who go to bars > once/month and under 30 would accept a bar coupon, indicating strong appeal from younger drivers.\")"
   ]
  },
  {
   "cell_type": "markdown",
   "metadata": {
    "id": "v3fL3QkO_qRK"
   },
   "source": [
    "7.  Based on these observations, what do you hypothesize about drivers who accepted the bar coupons?"
   ]
  },
  {
   "cell_type": "code",
   "execution_count": null,
   "metadata": {
    "id": "Y48naDFh_qRL"
   },
   "outputs": [],
   "source": [
    "#Based on the initial observations people who accept bar coupons are less likely to have children and have more leisure time."
   ]
  },
  {
   "cell_type": "markdown",
   "metadata": {
    "id": "r4Hu1zOb_qRL"
   },
   "source": [
    "### Independent Investigation\n",
    "\n",
    "Using the bar coupon example as motivation, you are to explore one of the other coupon groups and try to determine the characteristics of passengers who accept the coupons.  "
   ]
  },
  {
   "cell_type": "code",
   "execution_count": 23,
   "metadata": {
    "id": "0c71cQhu_qRL"
   },
   "outputs": [
    {
     "name": "stdout",
     "output_type": "stream",
     "text": [
      "coupon\n",
      "Carry out & Take away    73.547848\n",
      "Restaurant(<20)          70.710696\n",
      "Coffee House             49.924925\n",
      "Restaurant(20-50)        44.101877\n",
      "Bar                      41.001487\n",
      "Name: Y, dtype: float64\n"
     ]
    }
   ],
   "source": [
    "#Percentage Acceptance by Coupon Type\n",
    "\n",
    "accept_rate = (\n",
    "    df.groupby('coupon')['Y']\n",
    "      .mean()                # mean of 1s = percentage accepted\n",
    "      .sort_values(ascending=False)\n",
    "      * 100\n",
    ")\n",
    "print(accept_rate)"
   ]
  },
  {
   "cell_type": "code",
   "execution_count": 24,
   "metadata": {
    "id": "QEsBkvIN_qRL"
   },
   "outputs": [
    {
     "data": {
      "image/png": "[encoded data removed]",
      "text/plain": [
       "<matplotlib.figure.Figure at 0x17e07eb24e0>"
      ]
     },
     "metadata": {},
     "output_type": "display_data"
    }
   ],
   "source": [
    "#Which types of coupons are people most likely to accept?\n",
    "\n",
    "#Coupon Acceptance by type\n",
    "plt.figure(figsize=(8,5))\n",
    "sns.countplot(data=df, x='coupon', hue='Y')\n",
    "plt.title('Coupon Acceptance by Type')\n",
    "plt.xlabel('Coupon Type')\n",
    "plt.ylabel('Number of Customers')\n",
    "plt.xticks(rotation=30)\n",
    "plt.legend(title='Accepted', labels=['No (0)', 'Yes (1)'])\n",
    "plt.tight_layout()\n",
    "plt.show()"
   ]
  },
  {
   "cell_type": "code",
   "execution_count": 16,
   "metadata": {
    "id": "fTC2WGE3_qRL"
   },
   "outputs": [
    {
     "name": "stdout",
     "output_type": "stream",
     "text": [
      "Number of Coffee House coupon rows: 3996\n"
     ]
    },
    {
     "data": {
      "text/html": [
       "<div>\n",
       "<style scoped>\n",
       "    .dataframe tbody tr th:only-of-type {\n",
       "        vertical-align: middle;\n",
       "    }\n",
       "\n",
       "    .dataframe tbody tr th {\n",
       "        vertical-align: top;\n",
       "    }\n",
       "\n",
       "    .dataframe thead th {\n",
       "        text-align: right;\n",
       "    }\n",
       "</style>\n",
       "<table border=\"1\" class=\"dataframe\">\n",
       "  <thead>\n",
       "    <tr style=\"text-align: right;\">\n",
       "      <th></th>\n",
       "      <th>destination</th>\n",
       "      <th>passanger</th>\n",
       "      <th>weather</th>\n",
       "      <th>temperature</th>\n",
       "      <th>time</th>\n",
       "      <th>coupon</th>\n",
       "      <th>expiration</th>\n",
       "      <th>gender</th>\n",
       "      <th>age</th>\n",
       "      <th>maritalStatus</th>\n",
       "      <th>...</th>\n",
       "      <th>CoffeeHouse</th>\n",
       "      <th>CarryAway</th>\n",
       "      <th>RestaurantLessThan20</th>\n",
       "      <th>Restaurant20To50</th>\n",
       "      <th>toCoupon_GEQ5min</th>\n",
       "      <th>toCoupon_GEQ15min</th>\n",
       "      <th>toCoupon_GEQ25min</th>\n",
       "      <th>direction_same</th>\n",
       "      <th>direction_opp</th>\n",
       "      <th>Y</th>\n",
       "    </tr>\n",
       "  </thead>\n",
       "  <tbody>\n",
       "    <tr>\n",
       "      <th>1</th>\n",
       "      <td>No Urgent Place</td>\n",
       "      <td>Friend(s)</td>\n",
       "      <td>Sunny</td>\n",
       "      <td>80</td>\n",
       "      <td>10AM</td>\n",
       "      <td>Coffee House</td>\n",
       "      <td>2h</td>\n",
       "      <td>Female</td>\n",
       "      <td>21</td>\n",
       "      <td>Unmarried partner</td>\n",
       "      <td>...</td>\n",
       "      <td>never</td>\n",
       "      <td>NaN</td>\n",
       "      <td>4~8</td>\n",
       "      <td>1~3</td>\n",
       "      <td>1</td>\n",
       "      <td>0</td>\n",
       "      <td>0</td>\n",
       "      <td>0</td>\n",
       "      <td>1</td>\n",
       "      <td>0</td>\n",
       "    </tr>\n",
       "    <tr>\n",
       "      <th>3</th>\n",
       "      <td>No Urgent Place</td>\n",
       "      <td>Friend(s)</td>\n",
       "      <td>Sunny</td>\n",
       "      <td>80</td>\n",
       "      <td>2PM</td>\n",
       "      <td>Coffee House</td>\n",
       "      <td>2h</td>\n",
       "      <td>Female</td>\n",
       "      <td>21</td>\n",
       "      <td>Unmarried partner</td>\n",
       "      <td>...</td>\n",
       "      <td>never</td>\n",
       "      <td>NaN</td>\n",
       "      <td>4~8</td>\n",
       "      <td>1~3</td>\n",
       "      <td>1</td>\n",
       "      <td>1</td>\n",
       "      <td>0</td>\n",
       "      <td>0</td>\n",
       "      <td>1</td>\n",
       "      <td>0</td>\n",
       "    </tr>\n",
       "    <tr>\n",
       "      <th>4</th>\n",
       "      <td>No Urgent Place</td>\n",
       "      <td>Friend(s)</td>\n",
       "      <td>Sunny</td>\n",
       "      <td>80</td>\n",
       "      <td>2PM</td>\n",
       "      <td>Coffee House</td>\n",
       "      <td>1d</td>\n",
       "      <td>Female</td>\n",
       "      <td>21</td>\n",
       "      <td>Unmarried partner</td>\n",
       "      <td>...</td>\n",
       "      <td>never</td>\n",
       "      <td>NaN</td>\n",
       "      <td>4~8</td>\n",
       "      <td>1~3</td>\n",
       "      <td>1</td>\n",
       "      <td>1</td>\n",
       "      <td>0</td>\n",
       "      <td>0</td>\n",
       "      <td>1</td>\n",
       "      <td>0</td>\n",
       "    </tr>\n",
       "    <tr>\n",
       "      <th>12</th>\n",
       "      <td>No Urgent Place</td>\n",
       "      <td>Kid(s)</td>\n",
       "      <td>Sunny</td>\n",
       "      <td>55</td>\n",
       "      <td>6PM</td>\n",
       "      <td>Coffee House</td>\n",
       "      <td>2h</td>\n",
       "      <td>Female</td>\n",
       "      <td>21</td>\n",
       "      <td>Unmarried partner</td>\n",
       "      <td>...</td>\n",
       "      <td>never</td>\n",
       "      <td>NaN</td>\n",
       "      <td>4~8</td>\n",
       "      <td>1~3</td>\n",
       "      <td>1</td>\n",
       "      <td>1</td>\n",
       "      <td>0</td>\n",
       "      <td>0</td>\n",
       "      <td>1</td>\n",
       "      <td>1</td>\n",
       "    </tr>\n",
       "    <tr>\n",
       "      <th>15</th>\n",
       "      <td>Home</td>\n",
       "      <td>Alone</td>\n",
       "      <td>Sunny</td>\n",
       "      <td>80</td>\n",
       "      <td>6PM</td>\n",
       "      <td>Coffee House</td>\n",
       "      <td>2h</td>\n",
       "      <td>Female</td>\n",
       "      <td>21</td>\n",
       "      <td>Unmarried partner</td>\n",
       "      <td>...</td>\n",
       "      <td>never</td>\n",
       "      <td>NaN</td>\n",
       "      <td>4~8</td>\n",
       "      <td>1~3</td>\n",
       "      <td>1</td>\n",
       "      <td>0</td>\n",
       "      <td>0</td>\n",
       "      <td>0</td>\n",
       "      <td>1</td>\n",
       "      <td>0</td>\n",
       "    </tr>\n",
       "  </tbody>\n",
       "</table>\n",
       "<p>5 rows × 26 columns</p>\n",
       "</div>"
      ],
      "text/plain": [
       "        destination  passanger weather  temperature  time        coupon  \\\n",
       "1   No Urgent Place  Friend(s)   Sunny           80  10AM  Coffee House   \n",
       "3   No Urgent Place  Friend(s)   Sunny           80   2PM  Coffee House   \n",
       "4   No Urgent Place  Friend(s)   Sunny           80   2PM  Coffee House   \n",
       "12  No Urgent Place     Kid(s)   Sunny           55   6PM  Coffee House   \n",
       "15             Home      Alone   Sunny           80   6PM  Coffee House   \n",
       "\n",
       "   expiration  gender age      maritalStatus ...  CoffeeHouse CarryAway  \\\n",
       "1          2h  Female  21  Unmarried partner ...        never       NaN   \n",
       "3          2h  Female  21  Unmarried partner ...        never       NaN   \n",
       "4          1d  Female  21  Unmarried partner ...        never       NaN   \n",
       "12         2h  Female  21  Unmarried partner ...        never       NaN   \n",
       "15         2h  Female  21  Unmarried partner ...        never       NaN   \n",
       "\n",
       "   RestaurantLessThan20 Restaurant20To50 toCoupon_GEQ5min toCoupon_GEQ15min  \\\n",
       "1                   4~8              1~3                1                 0   \n",
       "3                   4~8              1~3                1                 1   \n",
       "4                   4~8              1~3                1                 1   \n",
       "12                  4~8              1~3                1                 1   \n",
       "15                  4~8              1~3                1                 0   \n",
       "\n",
       "   toCoupon_GEQ25min direction_same direction_opp  Y  \n",
       "1                  0              0             1  0  \n",
       "3                  0              0             1  0  \n",
       "4                  0              0             1  0  \n",
       "12                 0              0             1  1  \n",
       "15                 0              0             1  0  \n",
       "\n",
       "[5 rows x 26 columns]"
      ]
     },
     "execution_count": 16,
     "metadata": {},
     "output_type": "execute_result"
    }
   ],
   "source": [
    "# Create a new DataFrame with only coffee house coupons\n",
    "coffee_coupons = df[df['coupon'] == 'Coffee House'].copy()\n",
    "\n",
    "# See how many rows it has\n",
    "print(\"Number of Coffee House coupon rows:\", len(coffee_coupons))\n",
    "coffee_coupons.head()"
   ]
  },
  {
   "cell_type": "code",
   "execution_count": 34,
   "metadata": {
    "id": "RrqUWn7d_qRL"
   },
   "outputs": [
    {
     "name": "stdout",
     "output_type": "stream",
     "text": [
      "Males who accepted Coffee House coupons: 985\n",
      "Male acceptance rate (Coffee House): 50.6%\n"
     ]
    },
    {
     "data": {
      "image/png": "[encoded data removed]",
      "text/plain": [
       "<matplotlib.figure.Figure at 0x265a22b0978>"
      ]
     },
     "metadata": {},
     "output_type": "display_data"
    },
    {
     "name": "stdout",
     "output_type": "stream",
     "text": [
      "Men and women equally accepted coupon from a coffee house, suggesting no gender bias in accepting coffee house coupons.\n"
     ]
    }
   ],
   "source": [
    "#Accepted Coffee House Coupon by Gender\n",
    "\n",
    "#males who accepted (Y = 1)\n",
    "male_rows = coffee_coupons[coffee_coupons['gender'].fillna('Unknown') == 'Male']\n",
    "\n",
    "#Count how many males accepted\n",
    "num_males_accepted = int((male_rows['Y'] == 1).sum())\n",
    "\n",
    "# Compute male acceptance rate\n",
    "male_accept_rate = male_rows['Y'].mean() * 100  # mean of 0/1\n",
    "\n",
    "print(f\"Males who accepted Coffee House coupons: {num_males_accepted}\")\n",
    "print(f\"Male acceptance rate (Coffee House): {male_accept_rate:.1f}%\")\n",
    "\n",
    "# Count accepted (1) vs not accepted (0)\n",
    "male_accept_counts = male_rows['Y'].value_counts().sort_index()\n",
    "\n",
    "# Plot\n",
    "plt.figure(figsize=(5,4))\n",
    "sns.barplot(x=male_accept_counts.index, y=male_accept_counts.values, palette='Blues')\n",
    "plt.title('Male Drivers — Coffee House Coupon Acceptance vs Non-Acceptance')\n",
    "plt.xlabel('Accepted Coupon? (1 = Yes, 0 = No)')\n",
    "plt.ylabel('Count')\n",
    "\n",
    "plt.show()\n",
    "\n",
    "print(\"Men and women equally accepted coupon from a coffee house, suggesting no gender bias in accepting coffee house coupons.\")"
   ]
  },
  {
   "cell_type": "code",
   "execution_count": 20,
   "metadata": {
    "id": "_oykf8YP_qRL"
   },
   "outputs": [
    {
     "name": "stdout",
     "output_type": "stream",
     "text": [
      "Acceptance rate among people who never visit coffee houses: 18.9%\n"
     ]
    },
    {
     "data": {
      "image/png": "[encoded data removed]",
      "text/plain": [
       "<matplotlib.figure.Figure at 0x265a1ebd748>"
      ]
     },
     "metadata": {},
     "output_type": "display_data"
    },
    {
     "name": "stdout",
     "output_type": "stream",
     "text": [
      "Drivers who never visited a coffee house only acecepted a coupon 20% of the time, meaning minimal interest from drivers without a history of coffee house patronage.\n"
     ]
    }
   ],
   "source": [
    "#Percentage of those who never visited a Coffee House that accepted the Coffee House Coupon\n",
    "\n",
    "# Number of Never visitors\n",
    "never_visitors = coffee_coupons[coffee_coupons['CoffeeHouse'] == 'never']\n",
    "\n",
    "# % of never-visitors who accepted (Y = 1)\n",
    "accept_rate_never = never_visitors['Y'].mean() * 100\n",
    "\n",
    "print(f\"Acceptance rate among people who never visit coffee houses: {accept_rate_never:.1f}%\")\n",
    "\n",
    "# Count accepted (1) vs not accepted (0)\n",
    "never_accept_counts = never_visitors['Y'].value_counts().sort_index()\n",
    "\n",
    "# Plot\n",
    "plt.figure(figsize=(5,4))\n",
    "sns.barplot(x=never_accept_counts.index, y=never_accept_counts.values, palette='YlGnBu')\n",
    "plt.title('Drivers Who Never Visit Coffee Houses — Acceptance vs Non-Acceptance')\n",
    "plt.xlabel('Accepted Coupon? (1 = Yes, 0 = No)')\n",
    "plt.ylabel('Number of Drivers')\n",
    "\n",
    "plt.show()\n",
    "\n",
    "print(\"Drivers who never visited a coffee house only acecepted a coupon 20% of the time, meaning minimal interest from drivers without a history of coffee house patronage.\")"
   ]
  },
  {
   "cell_type": "code",
   "execution_count": 33,
   "metadata": {},
   "outputs": [
    {
     "name": "stdout",
     "output_type": "stream",
     "text": [
      "Males who never visit coffee houses — accepted: 20.7%\n"
     ]
    },
    {
     "data": {
      "image/png": "[encoded data removed]",
      "text/plain": [
       "<matplotlib.figure.Figure at 0x265a22d76a0>"
      ]
     },
     "metadata": {},
     "output_type": "display_data"
    },
    {
     "name": "stdout",
     "output_type": "stream",
     "text": [
      "Male drivers who never visited a coffee house showed minimal interest in the coupon, consistent with prior findings and no gender bias.\n"
     ]
    }
   ],
   "source": [
    "#Percentage of those who never visited a Coffee House that accepted the Coffee House Coupon that are Male\n",
    "\n",
    "male_never = coffee_coupons[\n",
    "    (coffee_coupons['gender'] == 'Male') &\n",
    "    (coffee_coupons['CoffeeHouse'] == 'never')\n",
    "].copy()\n",
    "\n",
    "# Compute stats\n",
    "n_total = len(male_never)\n",
    "n_accept = int((male_never['Y'] == 1).sum())\n",
    "rate = male_never['Y'].mean() * 100 if n_total > 0 else float('nan')\n",
    "\n",
    "print(f\"Males who never visit coffee houses — accepted: {rate:.1f}%\" )\n",
    "\n",
    "# Count accepted (1) vs not accepted (0)\n",
    "male_never_accept_counts = male_never['Y'].value_counts().sort_index()\n",
    "\n",
    "# Plot\n",
    "plt.figure(figsize=(5,4))\n",
    "sns.barplot(x=male_never_accept_counts.index, y=male_never_accept_counts.values, palette='Blues')\n",
    "plt.title('Male Drivers Who Never Visit Coffee Houses — Acceptance vs Non-Acceptance')\n",
    "plt.xlabel('Accepted Coupon? (1 = Yes, 0 = No)')\n",
    "plt.ylabel('Number of Drivers')\n",
    "\n",
    "plt.show()\n",
    "\n",
    "print(\"Male drivers who never visited a coffee house showed minimal interest in the coupon, consistent with prior findings and no gender bias.\")"
   ]
  },
  {
   "cell_type": "code",
   "execution_count": null,
   "metadata": {},
   "outputs": [],
   "source": []
  }
 ],
 "metadata": {
  "colab": {
   "provenance": []
  },
  "kernelspec": {
   "display_name": "Python 3",
   "language": "python",
   "name": "python3"
  },
  "language_info": {
   "codemirror_mode": {
    "name": "ipython",
    "version": 3
   },
   "file_extension": ".py",
   "mimetype": "text/x-python",
   "name": "python",
   "nbconvert_exporter": "python",
   "pygments_lexer": "ipython3",
   "version": "3.6.4"
  }
 },
 "nbformat": 4,
 "nbformat_minor": 1
}
